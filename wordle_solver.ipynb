{
 "cells": [
  {
   "cell_type": "code",
   "execution_count": 37,
   "metadata": {},
   "outputs": [],
   "source": [
    "## Libraries required to run this code\n",
    "\n",
    "import numpy as np\n",
    "import copy\n",
    "import itertools as it\n",
    "import os\n",
    "from scipy.special import entr"
   ]
  },
  {
   "cell_type": "code",
   "execution_count": 115,
   "metadata": {},
   "outputs": [],
   "source": [
    "## import wordlists\n",
    "\n",
    "data = np.loadtxt('wordlist_solutions.txt',dtype=str)\n",
    "data2 = np.loadtxt('wordlist_guesses.txt',dtype=str)\n",
    "\n",
    "## Ensure words are 5 letters\n",
    "\n",
    "solution_words = [d for d in data if len(d) == 5]   # Words that could be solutions\n",
    "search_words = [d for d in data2 if len(d) == 5]    # All words that can be entered"
   ]
  },
  {
   "cell_type": "markdown",
   "metadata": {},
   "source": [
    "#### We need a way to store our information. We have three pieces to store, the letters that are in the right place (green letters) , the letters that we know are not in the word (grey) and the letters that we know are in the word, but we don't know exactly where yet (yellow/orange) .. \n",
    "\n",
    "#### We store this information in a ragged list structure called restrictions that includes 3 elements.\n",
    "\n",
    "## restrictions[0]\n",
    "\n",
    "#### '_ _ _ _ _' <- this means we don't know any. '\n",
    "#### '_ _ a _ _' <- this means we know a is in the 3rd position\n",
    "\n",
    "## restrictions[1] \n",
    "#### is a list of letters that we know are not in the word\n",
    "\n",
    "## restrictions[2] \n",
    "#### is a dictionary that contains letters we know are in the word and remembers the positions that we know are not. \n",
    "\n",
    "#### {'a':[]} <- We know a is in the word, but we don't know where\n",
    "#### {'a':[0,2]} <- We know that a is in the word, we don't know where, but we know it's not 1st or third position"
   ]
  },
  {
   "cell_type": "code",
   "execution_count": 13,
   "metadata": {},
   "outputs": [],
   "source": [
    "## initialise restrictions list\n",
    "restrictions = ['_____',[],{}]"
   ]
  },
  {
   "cell_type": "markdown",
   "metadata": {},
   "source": [
    "## The following are functions used in the solver"
   ]
  },
  {
   "cell_type": "code",
   "execution_count": 270,
   "metadata": {},
   "outputs": [],
   "source": [
    "def comb(n,r):\n",
    "    nfact = np.math.factorial(n)\n",
    "    nmrfact = np.math.factorial(n-r)\n",
    "    rfact = np.math.factorial(r)\n",
    "    return(nfact/(nmrfact*rfact))"
   ]
  },
  {
   "cell_type": "code",
   "execution_count": 365,
   "metadata": {},
   "outputs": [],
   "source": [
    "def calc_letter_prob(word_list, restrictions = ['_____',[],{}]):\n",
    "    '''\n",
    "    Counts the probability of randomly picking a word in the list that contains a letter\n",
    "    \n",
    "    Note: when the letter is already in the solution it then calculates probability of picking a word\n",
    "    that contains a second instance of that letter.\n",
    "    \n",
    "    '''\n",
    "    alpha = ['a','b','c','d','e','f','g','h','i','j',\n",
    "             'k','l','m','n','o','p','q','r','s','t',\n",
    "             'u','v','w','x','y','z' ]\n",
    "    word_count = len(word_list)\n",
    "    letter_frequency = {}\n",
    "    for a in alpha:\n",
    "        letter_frequency[a] = 0\n",
    "    for word in word_list:\n",
    "        found = []\n",
    "        for letter in word:\n",
    "            found.append(letter)\n",
    "            fl = found.count(letter)\n",
    "            if fl > restrictions[0].count(letter):\n",
    "                if letter*fl in letter_frequency:\n",
    "                    letter_frequency[letter*fl] += 1\n",
    "                else:\n",
    "                    letter_frequency[letter*fl] = 1\n",
    "    for f in letter_frequency:\n",
    "        if word_count > 0:\n",
    "            letter_frequency[f] = letter_frequency[f]/((word_count))\n",
    "        else:\n",
    "            letter_frequency[f] = 0\n",
    "            \n",
    "    return(letter_frequency)"
   ]
  },
  {
   "cell_type": "code",
   "execution_count": 364,
   "metadata": {},
   "outputs": [
    {
     "name": "stdout",
     "output_type": "stream",
     "text": [
      "['wheel', 'whirl']\n"
     ]
    },
    {
     "data": {
      "image/png": "[encoded data removed]",
      "text/plain": [
       "<Figure size 2000x1000 with 1 Axes>"
      ]
     },
     "metadata": {},
     "output_type": "display_data"
    }
   ],
   "source": [
    "## Test the letter probability function\n",
    "import matplotlib.pyplot as plt\n",
    "\n",
    "restrictions = ['_____',[],{}]\n",
    "pos = restrict_word_list(solution_words, restrictions)\n",
    "print(pos)\n",
    "letter_frequencies = calc_letter_prob(pos, restrictions)\n",
    "sorted_freq = dict(sorted(letter_frequencies.items(),key= lambda x:x[1],reverse= True))\n",
    "plt.figure(figsize=(20,10))\n",
    "\n",
    "plt.bar(sorted_freq.keys(), sorted_freq.values())\n",
    "plt.title('Letter frequency in wordle words')\n",
    "plt.show()\n"
   ]
  },
  {
   "cell_type": "code",
   "execution_count": 74,
   "metadata": {},
   "outputs": [],
   "source": [
    "def restrict_word_list(word_list, restrictions):\n",
    "    '''\n",
    "    Takes a word list and a set of restrictions and removes all impossible words\n",
    "    '''\n",
    "    output = []\n",
    "    for word in word_list:\n",
    "        add_to_list = True\n",
    "        for count, r in enumerate(restrictions[0]):\n",
    "            if r == '_':\n",
    "                pass\n",
    "            else:\n",
    "                if r != word[count]:\n",
    "                    add_to_list = False\n",
    "        for letter in word:\n",
    "            if letter in restrictions[1]:\n",
    "                add_to_list = False\n",
    "        for res in restrictions[2]:\n",
    "            if res not in word:\n",
    "                add_to_list = False\n",
    "            for pos in restrictions[2][res]:\n",
    "                if list(word)[pos] == res:\n",
    "                    add_to_list = False\n",
    "        if add_to_list:\n",
    "            output.append(word)\n",
    "    return(output)"
   ]
  },
  {
   "cell_type": "code",
   "execution_count": 75,
   "metadata": {},
   "outputs": [
    {
     "name": "stdout",
     "output_type": "stream",
     "text": [
      "['hairy', 'scary']\n"
     ]
    }
   ],
   "source": [
    "## Test restrict_word_function\n",
    "words = ['hairy', 'scary' , 'witch']\n",
    "## Lets assume we know a is in the word..\n",
    "restricted_words = restrict_word_list(words, ['_____',[],{'a':[]}])\n",
    "print(restricted_words)"
   ]
  },
  {
   "cell_type": "code",
   "execution_count": 76,
   "metadata": {},
   "outputs": [],
   "source": [
    "def calc_entropy(dic1):\n",
    "    '''\n",
    "    takes a dictionary of stored probabilities and calculates the entropy \n",
    "    '''\n",
    "    entropy = entr(list(dic1.values()))\n",
    "    return(np.sum(entropy))"
   ]
  },
  {
   "cell_type": "code",
   "execution_count": 367,
   "metadata": {},
   "outputs": [],
   "source": [
    "def calc_entropy_for_words(wordlist, words, restrictions):\n",
    "    '''\n",
    "    calculates the expected entropy by considering each possible case for the word.\n",
    "    NOTE:\n",
    "    there are 3 possible situations for each letter in the word. 5 letters. so there\n",
    "    are 3^5 = 243 possible results for the word.\n",
    "    \n",
    "    for each letter : \n",
    "    \n",
    "    1. The letter is not in the solution\n",
    "    2. The letter is in a specific location\n",
    "    3. The letter is in the word, but not in the specific location.\n",
    "    \n",
    "    for each of the cases there is a probability associated with it, the expected entropy is\n",
    "    the weighted sum of the Entropy from each case.\n",
    "    '''\n",
    "\n",
    "    entropy_list = []  \n",
    "    prob_list = []\n",
    "    possible_outcomes = list(it.product([0,1,2],[0,1,2],[0,1,2],[0,1,2],[0,1,2]))\n",
    "    for word in words:\n",
    "        wordent = []\n",
    "        for outcome in possible_outcomes:\n",
    "            res = copy.deepcopy(restrictions) ## copy original restrictions\n",
    "            for c,i in enumerate(outcome):\n",
    "                if i == 0:\n",
    "                    res[1].append(word[c])\n",
    "                if i == 1:\n",
    "                    known = list(res[0])\n",
    "                    known[c] = word[c]\n",
    "                    res[0] = \"\".join(known)\n",
    "                if i == 2:\n",
    "                    if word[c] not in res[2]:\n",
    "                        res[2][word[c]] = []\n",
    "                    if c not in res[2][word[c]]:\n",
    "                        res[2][word[c]].append(c)\n",
    "                \n",
    "            res_wordlist = restrict_word_list(wordlist, res)\n",
    "            prob = len(res_wordlist) / len(wordlist) \n",
    "            lf = calc_letter_prob( res_wordlist )\n",
    "            entropy = calc_entropy( lf)\n",
    "            wordent.append(entropy * prob)\n",
    "        entropy_list.append(np.sum(wordent))\n",
    "    return(entropy_list)\n"
   ]
  },
  {
   "cell_type": "code",
   "execution_count": 368,
   "metadata": {},
   "outputs": [],
   "source": [
    "def pickword(possible_words, wordlist, restrictions):\n",
    "    res = copy.deepcopy(restrictions) ## copy original restrictions\n",
    "    wordlist = restrict_word_list(possible_words, res)\n",
    "    if len(wordlist)<3:\n",
    "        return(wordlist[0])\n",
    "    res2 = ['_____',res[1],{}]\n",
    "    possible_words = restrict_word_list(possible_words, res2)      \n",
    "    entropies = calc_entropy_for_words(wordlist,possible_words,restrictions)\n",
    "    sols = []\n",
    "    for c,word in enumerate(possible_words):\n",
    "        if entropies[c] != 0:\n",
    "            sols.append([entropies[c],word])\n",
    "    sols.sort()\n",
    "    worst = sols[-5:]\n",
    "    best = sols[:5]\n",
    "    print('worst')\n",
    "    print(worst)\n",
    "    print('best')\n",
    "    print(best)\n",
    "    return(possible_words[np.argmin(entropies)])"
   ]
  },
  {
   "cell_type": "code",
   "execution_count": null,
   "metadata": {},
   "outputs": [],
   "source": [
    "## These are functions to update the knowledge we know after a round.\n",
    "\n",
    "def update_correct_letters(data, guess, solution):\n",
    "    for c,i in enumerate(guess):\n",
    "        if i in solution and i != solution[c]:\n",
    "            if str(i) not in data[2]:\n",
    "                data[2][str(i)]=[]\n",
    "            data[2][str(i)].append(c)\n",
    "    return(data[2])\n",
    "\n",
    "def update_incorrect_letters(data, guess, solution):\n",
    "    for c,i in enumerate(guess):\n",
    "        if i not in solution and i not in data[1]:\n",
    "            data[1].append(i)\n",
    "    return(data[1]) \n",
    "\n",
    "def update_solution(data, guess, solution):\n",
    "    for c,i in enumerate(guess):\n",
    "        if i == solution[c]:\n",
    "            data[0][c] = i\n",
    "    return(data[0])"
   ]
  },
  {
   "cell_type": "code",
   "execution_count": 369,
   "metadata": {},
   "outputs": [],
   "source": [
    "def run_game(solution, solution_words, search_words):\n",
    "    \n",
    "    data = {}\n",
    "    turns = 1 # We are already guessing 'crane' as out starter word so start counting from 1\n",
    "    solved = False\n",
    "    next_guess = ''\n",
    "    game_data = [list('_____'),list(''),{}]\n",
    "\n",
    "\n",
    "\n",
    "    first_guess = 'crane'\n",
    "    game_data[2] = update_correct_letters(game_data, first_guess, solution)\n",
    "    game_data[0] = update_solution(game_data, first_guess, solution)\n",
    "    game_data[1] = update_incorrect_letters(game_data, first_guess, solution)\n",
    "\n",
    "\n",
    "    possibles = solution_words\n",
    "    allowable_words = search_words\n",
    "\n",
    "    while turns < 6 and solved == False:\n",
    "        next_guess = pickword(solution_words, search_words ,game_data)\n",
    "        turns += 1\n",
    "        if solution == next_guess:\n",
    "            print('Well done! The word was ' + solution)\n",
    "            print('solved in ' + str(turns) +' turns')\n",
    "            solved = True\n",
    "            return(turns)\n",
    "        else:\n",
    "            game_data[2] = update_correct_letters(game_data, next_guess, solution)\n",
    "            game_data[0] = update_solution(game_data, next_guess, solution)\n",
    "            game_data[1] = update_incorrect_letters(game_data, next_guess, solution)\n",
    "            print(game_data)"
   ]
  },
  {
   "cell_type": "code",
   "execution_count": 171,
   "metadata": {},
   "outputs": [],
   "source": [
    "## Randomly select some words from the list \n",
    "nums = np.random.randint(0,len(solution_words),100)"
   ]
  },
  {
   "cell_type": "code",
   "execution_count": 377,
   "metadata": {},
   "outputs": [
    {
     "name": "stdout",
     "output_type": "stream",
     "text": [
      "worst\n",
      "[[3.9853271968198687, 'puppy'], [4.046675779916207, 'booze'], [4.322021536176441, 'queue'], [4.355791493701033, 'ozone'], [4.462664188287919, 'penne']]\n",
      "best\n",
      "[[1.6646972688733879, 'solid'], [1.7999394564741964, 'olden'], [1.8115996121557638, 'dimly'], [1.8178219540938831, 'yield'], [1.8329059344283123, 'moldy']]\n",
      "[['_', '_', '_', '_', '_'], ['c', 'r', 'a', 's', 'l', 'i'], {'n': [3], 'e': [4], 'o': [1], 'd': [4]}]\n",
      "[['_', '_', '_', 'o', '_'], ['c', 'r', 'a', 's', 'l', 'i', 'm'], {'n': [3, 4], 'e': [4, 1], 'o': [1], 'd': [4, 0]}]\n",
      "Well done! The word was endow\n",
      "solved in 4 turns\n",
      "worst\n",
      "[[4.095566003128917, 'skunk'], [4.130738173181147, 'khaki'], [4.149172070972076, 'flank'], [4.218556767264013, 'shank'], [4.234425209420702, 'spank']]\n",
      "best\n",
      "[[1.2567955296785938, 'login'], [1.2857783902813913, 'lingo'], [1.3211627692840298, 'talon'], [1.358746264841034, 'limbo'], [1.3998576961176852, 'tonal']]\n",
      "[['_', '_', '_', '_', '_'], ['c', 'r', 'e', 'l', 'g', 'i'], {'a': [2], 'n': [3, 4], 'o': [1]}]\n",
      "[['_', '_', 'n', '_', '_'], ['c', 'r', 'e', 'l', 'g', 'i', 'y'], {'a': [2, 0], 'n': [3, 4, 1], 'o': [1, 3]}]\n",
      "Well done! The word was banjo\n",
      "solved in 4 turns\n",
      "worst\n",
      "[[5.013494417638503, 'twixt'], [5.0552813309385405, 'fuzzy'], [5.075803550943503, 'fluff'], [5.12569297761911, 'bobby'], [5.486086172196887, 'vivid']]\n",
      "best\n",
      "[[2.6827258691388227, 'hoist'], [2.693452714839059, 'spilt'], [2.703111629086755, 'south'], [2.704135039298243, 'sloth'], [2.7251592596650713, 'pilot']]\n",
      "[['_', '_', 'i', '_', 't'], ['c', 'r', 'a', 'n', 'e', 'h', 'o'], {'s': [3]}]\n",
      "worst\n",
      "[[1.7351264569629223, 'sixty'], [1.7351264569629223, 'squib'], [1.7351264569629223, 'timid'], [1.7351264569629223, 'visit'], [1.7351264569629223, 'vivid']]\n",
      "best\n",
      "[[0.46209812037329684, 'billy'], [0.46209812037329684, 'bliss'], [0.46209812037329684, 'blitz'], [0.46209812037329684, 'bluff'], [0.46209812037329684, 'build']]\n",
      "[['_', '_', 'i', '_', 't'], ['c', 'r', 'a', 'n', 'e', 'h', 'o', 'u', 'y'], {'s': [3], 'p': [0, 3], 'l': [2]}]\n",
      "Well done! The word was spilt\n",
      "solved in 4 turns\n",
      "worst\n",
      "[[3.4209864601100084, 'stump'], [3.4209864601100084, 'truce'], [3.4209864601100084, 'trump'], [3.4209864601100084, 'truss'], [3.4209864601100084, 'trust']]\n",
      "best\n",
      "[[0.19804205158855578, 'dowry'], [0.19804205158855578, 'howdy'], [0.19804205158855578, 'ivory'], [0.39608410317711157, 'wordy'], [0.39608410317711157, 'world']]\n",
      "[['c', '_', '_', '_', '_'], ['a', 'n', 'i', 'v', 'o'], {'r': [1, 3], 'e': [4], 'y': [4]}]\n",
      "Well done! The word was cyber\n",
      "solved in 3 turns\n",
      "worst\n",
      "[[3.7443970371003106, 'jazzy'], [3.7443970371003106, 'mamma'], [3.7443970371003106, 'mammy'], [3.7443970371003106, 'mummy'], [3.7443970371003106, 'nanny']]\n",
      "best\n",
      "[[0.46591999683525, 'stalk'], [0.4871573764346747, 'ghost'], [0.4871573764346747, 'sight'], [0.5525633944052432, 'stink'], [0.6604441715746611, 'light']]\n",
      "[['s', 't', 'a', 'n', '_'], ['c', 'r', 'e', 'l', 'k'], {}]\n",
      "Well done! The word was stand\n",
      "solved in 3 turns\n",
      "Well done! The word was carve\n",
      "solved in 2 turns\n",
      "worst\n",
      "[[3.5811750145630947, 'onion'], [3.5906281977768613, 'known'], [3.6112267951817065, 'vivid'], [3.890394790202044, 'unzip'], [4.091654167719273, 'minim']]\n",
      "best\n",
      "[[1.1089636348626937, 'gusto'], [1.2200263072801174, 'tough'], [1.2285805499871492, 'ought'], [1.31229551698229, 'guilt'], [1.3571102042865284, 'lusty']]\n",
      "[['_', '_', '_', 'n', '_'], ['c', 'r', 'a', 'e', 'u', 's', 't', 'o'], {'g': [0]}]\n",
      "worst\n",
      "[[0.8239592165010822, 'pygmy'], [0.8239592165010822, 'whiff'], [0.8239592165010822, 'whiny'], [0.8239592165010822, 'wimpy'], [1.6020559154587262, 'minim']]\n",
      "best\n",
      "[[0.34657359027997264, 'biddy'], [0.34657359027997264, 'billy'], [0.34657359027997264, 'blimp'], [0.34657359027997264, 'blink'], [0.34657359027997264, 'dingy']]\n",
      "[['_', '_', '_', 'n', '_'], ['c', 'r', 'a', 'e', 'u', 's', 't', 'o', 'd', 'l'], {'g': [0], 'i': [0], 'y': [2]}]\n",
      "Well done! The word was vying\n",
      "solved in 4 turns\n",
      "worst\n",
      "[[5.013494417638503, 'twixt'], [5.0552813309385405, 'fuzzy'], [5.075803550943503, 'fluff'], [5.12569297761911, 'bobby'], [5.486086172196887, 'vivid']]\n",
      "best\n",
      "[[2.6827258691388227, 'hoist'], [2.693452714839059, 'spilt'], [2.703111629086755, 'south'], [2.704135039298243, 'sloth'], [2.7251592596650713, 'pilot']]\n",
      "[['_', '_', 'i', '_', 't'], ['c', 'r', 'a', 'n', 'e', 'h', 's'], {'o': [1]}]\n",
      "Well done! The word was idiot\n",
      "solved in 3 turns\n",
      "worst\n",
      "[[3.649076632384677, 'civil'], [3.649076632384677, 'cliff'], [3.649076632384677, 'frill'], [3.649076632384677, 'grill'], [3.649076632384677, 'vigil']]\n",
      "best\n",
      "[[0.4004137977606745, 'posit'], [0.4004137977606745, 'spout'], [0.5070518255391275, 'spook'], [0.5070518255391276, 'skimp'], [0.5070518255391276, 'stomp']]\n",
      "[['c', 'r', 'o', '_', '_'], ['a', 'n', 'e', 's', 'p', 'u', 't'], {}]\n",
      "worst\n",
      "[[1.7351264569629228, 'micro'], [1.7351264569629228, 'mimic'], [1.7351264569629228, 'myrrh'], [1.7351264569629228, 'roomy'], [1.7351264569629228, 'vigil']]\n",
      "best\n",
      "[[0.46209812037329684, 'biddy'], [0.46209812037329684, 'child'], [0.46209812037329684, 'chord'], [0.46209812037329684, 'crowd'], [0.46209812037329684, 'dilly']]\n",
      "[['c', 'r', 'o', 'c', 'k'], ['a', 'n', 'e', 's', 'p', 'u', 't', 'f', 'l', 'i'], {}]\n",
      "Well done! The word was crock\n",
      "solved in 4 turns\n",
      "Well done! The word was alone\n",
      "solved in 2 turns\n"
     ]
    }
   ],
   "source": [
    "## This will run the solver by randomly generating the words from the solutions list and \n",
    "## then using the algorithm to solve it.\n",
    "\n",
    "data = {}\n",
    "for i in range(10):\n",
    "    solution = solution_words[nums[i]]\n",
    "    data[solution] = run_game(solution, solution_words, search_words)"
   ]
  },
  {
   "cell_type": "code",
   "execution_count": 385,
   "metadata": {},
   "outputs": [
    {
     "name": "stdout",
     "output_type": "stream",
     "text": [
      "{'endow': 4, 'banjo': 4, 'spilt': 4, 'cyber': 3, 'stand': 3, 'carve': 2, 'vying': 4, 'idiot': 3, 'crock': 4, 'alone': 2}\n",
      "3.3\n",
      "10\n"
     ]
    },
    {
     "data": {
      "image/png": "[encoded data removed]",
      "text/plain": [
       "<Figure size 640x480 with 1 Axes>"
      ]
     },
     "metadata": {},
     "output_type": "display_data"
    }
   ],
   "source": [
    "## Plot results\n",
    "\n",
    "print(data)\n",
    "print(np.mean(list(data.values())))\n",
    "print(len(data.values()))\n",
    "plt.hist(data.values())\n",
    "plt.xticks([1,2,3,4,5])\n",
    "plt.xlabel(' number of tries')\n",
    "plt.ylabel(' frequency')\n",
    "plt.title('How many turns does it take the algo to solve wordle')\n",
    "plt.show()"
   ]
  }
 ],
 "metadata": {
  "kernelspec": {
   "display_name": "Python 3.7.7 64-bit ('SAIL': conda)",
   "language": "python",
   "name": "python377jvsc74a57bd05ecf443a41de6e9c0cdbe54ef8814b30bc412f93499f79e96684aebb0cad0c94"
  },
  "language_info": {
   "codemirror_mode": {
    "name": "ipython",
    "version": 3
   },
   "file_extension": ".py",
   "mimetype": "text/x-python",
   "name": "python",
   "nbconvert_exporter": "python",
   "pygments_lexer": "ipython3",
   "version": "3.7.7"
  }
 },
 "nbformat": 4,
 "nbformat_minor": 2
}
